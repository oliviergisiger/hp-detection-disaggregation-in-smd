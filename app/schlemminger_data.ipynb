{
 "cells": [
  {
   "cell_type": "code",
   "execution_count": 1,
   "id": "9d3e99e3-3392-4a2e-b356-839673342881",
   "metadata": {},
   "outputs": [],
   "source": [
    "import pickle\n",
    "import numpy as np\n",
    "import matplotlib.pyplot as plt\n",
    "\n",
    "from models.disaggregation.dataloader import DisaggregationDataLoader\n",
    "from models.disaggregation.cnn.model import DisaggregationConvNet"
   ]
  },
  {
   "cell_type": "code",
   "execution_count": 2,
   "id": "bf3be7e3-bf93-4149-8ef7-89baa4f8c01d",
   "metadata": {},
   "outputs": [],
   "source": [
    "def rmse(y_true, y_pred, axis=None, return_array=False): \n",
    "    rmse = np.sqrt(np.mean((y_pred - y_true)**2, axis=axis))\n",
    "    if return_array: \n",
    "        return rmse\n",
    "    return np.mean(rmse)"
   ]
  },
  {
   "cell_type": "code",
   "execution_count": 3,
   "id": "8d7fabf0-2dd2-4266-bbe9-b4ebbbeaccfd",
   "metadata": {},
   "outputs": [],
   "source": [
    "# load model\n",
    "model = DisaggregationConvNet((10, 192, 7), 4, 1)\n",
    "model.load_model('models/disaggregation/cnn/trained_models/192_cnn_trained.h5')\n",
    "\n",
    "# load data --> preprocessed, enriched with features\n",
    "# filtered for \"winterly data\" as discussed in limitations, converted to kW/h (from (W/h)\n",
    "path_ = '../data/model_input/schlemminger/disaggregation/ts_192_192_validation.p'\n",
    "with open(path_, 'rb') as f: \n",
    "    x_test, aux_test, y_test = pickle.load(f)"
   ]
  },
  {
   "cell_type": "code",
   "execution_count": null,
   "id": "64f033ed-1f0a-4706-9862-df35c1740ab8",
   "metadata": {},
   "outputs": [
    {
     "name": "stdout",
     "output_type": "stream",
     "text": [
      "104/161 [==================>...........] - ETA: 0s"
     ]
    }
   ],
   "source": [
    "y_pred = model.predict(x_test, aux=aux_test)"
   ]
  },
  {
   "cell_type": "code",
   "execution_count": null,
   "id": "5a292f70-fc08-42b6-8749-01f932453f68",
   "metadata": {},
   "outputs": [],
   "source": [
    "error = rmse(y_test, y_pred, axis=1)\n",
    "\n",
    "print(f'Root Mean Squared Error: {error}')"
   ]
  },
  {
   "cell_type": "code",
   "execution_count": null,
   "id": "853b1ee6-b9cd-4f1d-a917-4ae428186015",
   "metadata": {},
   "outputs": [],
   "source": [
    "def vis_obs(obs):\n",
    "    hh, hp, hp_pred = x_test[obs, :, 0], y_test[obs], y_pred[obs]\n",
    "    fig, ax = plt.subplots(1, 1, figsize=(12, 6))\n",
    "    ax.plot(hh, '--', label='total load', color='gray')\n",
    "    ax.plot(hp, label='truth')\n",
    "    ax.plot(hp_pred, label='pred')\n",
    "    plt.title(f'Observation: {obs}, RMSE: {round(rmse(hp, hp_pred), 3)}')\n",
    "    plt.legend()\n",
    "    plt.show()\n",
    "vis_obs(4)"
   ]
  },
  {
   "cell_type": "code",
   "execution_count": 7,
   "id": "9ee304aa-3b65-49a2-b90b-20c8adab9f60",
   "metadata": {},
   "outputs": [
    {
     "data": {
      "image/png": "[encoded data removed]",
      "text/plain": [
       "<Figure size 1200x600 with 1 Axes>"
      ]
     },
     "metadata": {},
     "output_type": "display_data"
    }
   ],
   "source": [
    "# error distribution \n",
    "def error_hist(y_test, y_pred):\n",
    "    errors = rmse(y_test, y_pred, axis=1, return_array=True)\n",
    "    fig, ax = plt.subplots(1, 1, figsize=(12, 6))\n",
    "    ax.hist(errors, bins=30)\n",
    "    plt.show()\n",
    "\n",
    "error_hist(y_test, y_pred)"
   ]
  }
 ],
 "metadata": {
  "kernelspec": {
   "display_name": "heat-pumps-smd",
   "language": "python",
   "name": "heat-pumps-smd"
  },
  "language_info": {
   "codemirror_mode": {
    "name": "ipython",
    "version": 3
   },
   "file_extension": ".py",
   "mimetype": "text/x-python",
   "name": "python",
   "nbconvert_exporter": "python",
   "pygments_lexer": "ipython3",
   "version": "3.10.5"
  }
 },
 "nbformat": 4,
 "nbformat_minor": 5
}
